{
 "cells": [
  {
   "cell_type": "code",
   "execution_count": 10,
   "metadata": {},
   "outputs": [],
   "source": [
    "import pandas as pd\n",
    "import numpy as np\n",
    "import pickle\n",
    "from datetime import timedelta\n",
    "\n",
    "pd.set_option('display.max_columns', None)\n",
    "pd.set_option('display.max_rows', 100)\n",
    "\n",
    "from tqdm import tqdm\n",
    "\n",
    "from sklearn.metrics import f1_score\n",
    "from sklearn.preprocessing import LabelEncoder\n",
    "from sklearn.ensemble import RandomForestClassifier\n",
    "from sklearn.model_selection import train_test_split"
   ]
  },
  {
   "cell_type": "code",
   "execution_count": 33,
   "metadata": {},
   "outputs": [],
   "source": [
    "num_days_data = 45\n",
    "directory = './data/track_1/'\n",
    "\n",
    "hydro_1day = pd.read_csv(directory + 'hydro_1day_prep.csv')\n",
    "df = pd.read_csv(directory + 'train.csv')\n",
    "with open('model.pkl', 'rb') as f:\n",
    "    model = pickle.load(f)"
   ]
  },
  {
   "cell_type": "code",
   "execution_count": 34,
   "metadata": {},
   "outputs": [],
   "source": [
    "hydro_1day['date'] = hydro_1day['date'].astype('datetime64[ns]')\n",
    "stations = hydro_1day['station_id'].unique()\n",
    "\n",
    "def get_data(year):\n",
    "    if year-1 in hydro_1day['year'].values:\n",
    "        part1 = hydro_1day[(hydro_1day['year']==year-1)].iloc[-num_days_data*len(stations):]    \n",
    "    else:\n",
    "        part1 = hydro_1day[(hydro_1day['year']==year)].iloc[-num_days_data*len(stations):]  \n",
    "        if (year-1)%4:\n",
    "            days = 365\n",
    "        else:\n",
    "            days = 366\n",
    "\n",
    "        part1['date'] = part1['date'] - pd.Timedelta(days=days)\n",
    "\n",
    "    part2 = hydro_1day[(hydro_1day['year']==year)].iloc[:num_days_data*len(stations)]\n",
    "    result = pd.concat([part1, part2])\n",
    "    result = result.drop(['date'], 1)\n",
    "    return result\n",
    "\n",
    "\n",
    "def predict(df):\n",
    "    Y_pred = []\n",
    "    full_train_df = df.copy()\n",
    "    for index1, group in tqdm(full_train_df.groupby(['station_id','year'])):\n",
    "\n",
    "        data = get_data(year=index1[1])\n",
    "        \n",
    "        X_days = []\n",
    "\n",
    "        for i, (index, row) in enumerate(group.iterrows()):\n",
    "            period = data.iloc[i:num_days_data*len(stations)+i]\n",
    "            period = period.values.flatten()\n",
    "\n",
    "            full_train_df.loc[index, 'ice_jam_pred'] = model.predict([np.append(row.drop('ice_jam').values, period)])\n",
    "            \n",
    "            \n",
    "    return full_train_df"
   ]
  },
  {
   "cell_type": "code",
   "execution_count": 35,
   "metadata": {},
   "outputs": [
    {
     "name": "stderr",
     "output_type": "stream",
     "text": [
      "100%|████████████████████████████████████████████████████████████████████████████████| 258/258 [03:01<00:00,  1.42it/s]\n"
     ]
    }
   ],
   "source": [
    "pred = predict(df)"
   ]
  },
  {
   "cell_type": "code",
   "execution_count": 36,
   "metadata": {},
   "outputs": [
    {
     "data": {
      "text/plain": [
       "1.0"
      ]
     },
     "execution_count": 36,
     "metadata": {},
     "output_type": "execute_result"
    }
   ],
   "source": [
    "f1_score(pred['ice_jam'], pred['ice_jam_pred'])"
   ]
  },
  {
   "cell_type": "code",
   "execution_count": null,
   "metadata": {},
   "outputs": [
    {
     "name": "stderr",
     "output_type": "stream",
     "text": [
      " 38%|██████████████████████████████▊                                                  | 98/258 [01:09<01:48,  1.47it/s]"
     ]
    }
   ],
   "source": [
    "pred = predict(df)\n",
    "pred['ice_jam'] = pred['ice_jam_pred']\n",
    "pred = pred.drop(['ice_jam_pred'],1)\n",
    "pred = pred.astype(int)\n",
    "pred.to_csv(directory + 'predict_data.csv', index=None)"
   ]
  }
 ],
 "metadata": {
  "kernelspec": {
   "display_name": "Python 3",
   "language": "python",
   "name": "python3"
  },
  "language_info": {
   "codemirror_mode": {
    "name": "ipython",
    "version": 3
   },
   "file_extension": ".py",
   "mimetype": "text/x-python",
   "name": "python",
   "nbconvert_exporter": "python",
   "pygments_lexer": "ipython3",
   "version": "3.8.6"
  }
 },
 "nbformat": 4,
 "nbformat_minor": 4
}
