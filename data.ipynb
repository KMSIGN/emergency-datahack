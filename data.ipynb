{
 "cells": [
  {
   "cell_type": "code",
   "execution_count": 1,
   "id": "catholic-drill",
   "metadata": {},
   "outputs": [],
   "source": [
    "import pandas as pd"
   ]
  },
  {
   "cell_type": "code",
   "execution_count": 4,
   "id": "macro-table",
   "metadata": {},
   "outputs": [],
   "source": [
    "directory = './data/track_1/'\n",
    "\n",
    "# гидро\n",
    "hydro_1day = pd.read_csv(directory + 'hydro_1day_sample.csv')\n",
    "hydro_coord = pd.read_csv(directory + 'hydro_coord_sample.csv')\n",
    "\n",
    "# метео — обратите внимание на различие во временной детализации\n",
    "meteo_3hours = pd.read_csv(directory + 'meteo_3hours_sample.csv')\n",
    "meteo_1day = pd.read_csv(directory + 'meteo_1day_sample.csv')\n",
    "meteo_1month = pd.read_csv(directory + 'meteo_1month_sample.csv')\n",
    "meteo_coord = pd.read_csv(directory + 'meteo_coord_sample.csv')\n",
    "\n",
    "# справочники\n",
    "reference_water_codes = pd.read_csv(directory + 'reference_water_codes_sample.csv')\n",
    "reference_horiz_visib = pd.read_csv(directory + 'reference_horiz_visib_sample.csv')\n",
    "\n",
    "# тест и трейн\n",
    "train_tr1 = pd.read_csv(directory + 'train_sample.csv')\n",
    "test_tr1 = pd.read_csv(directory + 'test_sample.csv')"
   ]
  },
  {
   "cell_type": "code",
   "execution_count": null,
   "id": "heated-alberta",
   "metadata": {},
   "outputs": [],
   "source": []
  }
 ],
 "metadata": {
  "kernelspec": {
   "display_name": "Python 3",
   "language": "python",
   "name": "python3"
  },
  "language_info": {
   "codemirror_mode": {
    "name": "ipython",
    "version": 3
   },
   "file_extension": ".py",
   "mimetype": "text/x-python",
   "name": "python",
   "nbconvert_exporter": "python",
   "pygments_lexer": "ipython3",
   "version": "3.8.5"
  }
 },
 "nbformat": 4,
 "nbformat_minor": 5
}
